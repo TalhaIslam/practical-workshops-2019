{
 "cells": [
  {
   "cell_type": "markdown",
   "metadata": {},
   "source": [
    "# Naive Bayes"
   ]
  },
  {
   "cell_type": "markdown",
   "metadata": {},
   "source": [
    "Naive Bayes methods are a set of supervised learning algorithms based on applying Bayes' theorem with the \"naive\" assumption of conditional independence between every pair of features given the value of the class variable. Bayes'theorem states the following relationship, given class variable $y$ and dependent feature vector $x_1$ through $x_n$,:"
   ]
  },
  {
   "cell_type": "markdown",
   "metadata": {},
   "source": [
    "$$P(y \\mid x_1, \\dots, x_n) = \\frac{P(y) P(x_1, \\dots x_n \\mid y)}\n",
    "                                 {P(x_1, \\dots, x_n)}$$"
   ]
  },
  {
   "cell_type": "markdown",
   "metadata": {},
   "source": [
    "Using the naive conditional independence assumption, we have"
   ]
  },
  {
   "cell_type": "markdown",
   "metadata": {},
   "source": [
    "$$\\begin{align}\\begin{aligned}P(y \\mid x_1, \\dots, x_n) \\propto P(y) \\prod_{i=1}^{n} P(x_i \\mid y)\\\\\\Downarrow\\\\\\hat{y} = \\arg\\max_y P(y) \\prod_{i=1}^{n} P(x_i \\mid y),\\end{aligned}\\end{align}$$"
   ]
  },
  {
   "cell_type": "markdown",
   "metadata": {},
   "source": [
    "Then, we can use Maximum A Posteriori (MAP) estimation to estimate $P(y)$ and $P(x_i \\mid y)$; the former is then the relative frequency of class $y$ in the training set."
   ]
  },
  {
   "cell_type": "markdown",
   "metadata": {},
   "source": [
    "*References*:\n",
    "H. Zhang (2004). The optimality of Naive Bayes. Proc. FLAIRS."
   ]
  },
  {
   "cell_type": "markdown",
   "metadata": {},
   "source": [
    "# 1 Gaussian Naive Bayes"
   ]
  },
  {
   "cell_type": "markdown",
   "metadata": {},
   "source": [
    "GaussianNB implements the Gaussian Naive Bayes algorithm for classification.   \n",
    "The likelihood of the features is assumed to be Gaussian:"
   ]
  },
  {
   "cell_type": "markdown",
   "metadata": {},
   "source": [
    "$$P(x_i \\mid y) = \\frac{1}{\\sqrt{2\\pi\\sigma^2_y}} \\exp\\left(-\\frac{(x_i - \\mu_y)^2}{2\\sigma^2_y}\\right)$$"
   ]
  },
  {
   "cell_type": "markdown",
   "metadata": {},
   "source": [
    "The parameters $\\sigma_y$ and $\\mu_y$  are estimated using maximum likelihood."
   ]
  },
  {
   "cell_type": "markdown",
   "metadata": {},
   "source": [
    "**Example** - The training data is generated as follows:"
   ]
  },
  {
   "cell_type": "code",
   "execution_count": 17,
   "metadata": {},
   "outputs": [],
   "source": [
    "import numpy as np\n",
    "X = np.array([[-1, -1], [-2, -1], [-3, -2], [1, 1], [2, 1], [3, 2]])\n",
    "Y = np.array([1, 1, 1, 2, 2, 2])"
   ]
  },
  {
   "cell_type": "markdown",
   "metadata": {},
   "source": [
    "**Q1**: Training a GaussianNB model:"
   ]
  },
  {
   "cell_type": "code",
   "execution_count": 18,
   "metadata": {},
   "outputs": [
    {
     "data": {
      "text/plain": [
       "GaussianNB(priors=None, var_smoothing=1e-09)"
      ]
     },
     "execution_count": 18,
     "metadata": {},
     "output_type": "execute_result"
    }
   ],
   "source": [
    "from sklearn.naive_bayes import GaussianNB\n",
    "gnb = GaussianNB()\n",
    "gnb.fit(X,y)"
   ]
  },
  {
   "cell_type": "markdown",
   "metadata": {},
   "source": [
    "**Q2**: Predict the label of a data [-0.8,-1]:"
   ]
  },
  {
   "cell_type": "code",
   "execution_count": 29,
   "metadata": {},
   "outputs": [
    {
     "data": {
      "text/plain": [
       "array([1])"
      ]
     },
     "execution_count": 29,
     "metadata": {},
     "output_type": "execute_result"
    }
   ],
   "source": [
    "X_test = np.array([[-0.8,-1]])\n",
    "y_pred = gnb.predict(X_test)\n",
    "y_pred"
   ]
  },
  {
   "cell_type": "markdown",
   "metadata": {},
   "source": [
    "# 2 MultinomialNB"
   ]
  },
  {
   "cell_type": "markdown",
   "metadata": {},
   "source": [
    "The multinomial Naive Bayes classifier is suitable for classification with discrete features (e.g., word counts for text classification). "
   ]
  },
  {
   "cell_type": "markdown",
   "metadata": {},
   "source": [
    "*References*   \n",
    "C.D. Manning, P. Raghavan and H. Schuetze (2008). Introduction to Information Retrieval. Cambridge University Press, pp. 234-265. http://nlp.stanford.edu/IR-book/html/htmledition/naive-bayes-text-classification-1.html"
   ]
  },
  {
   "cell_type": "markdown",
   "metadata": {},
   "source": [
    "**Example** - The training data is generated as follows:"
   ]
  },
  {
   "cell_type": "code",
   "execution_count": 20,
   "metadata": {},
   "outputs": [
    {
     "data": {
      "text/plain": [
       "(6, 100)"
      ]
     },
     "execution_count": 20,
     "metadata": {},
     "output_type": "execute_result"
    }
   ],
   "source": [
    "import numpy as np\n",
    "X = np.random.randint(5, size=(6, 100))\n",
    "y = np.array([1, 2, 3, 4, 5, 6])\n",
    "X.shape"
   ]
  },
  {
   "cell_type": "markdown",
   "metadata": {},
   "source": [
    "**Q3**: Training a MultinomialNB model:"
   ]
  },
  {
   "cell_type": "code",
   "execution_count": 21,
   "metadata": {},
   "outputs": [
    {
     "data": {
      "text/plain": [
       "MultinomialNB(alpha=1.0, class_prior=None, fit_prior=True)"
      ]
     },
     "execution_count": 21,
     "metadata": {},
     "output_type": "execute_result"
    }
   ],
   "source": [
    "from sklearn.naive_bayes import MultinomialNB\n",
    "clf = MultinomialNB()\n",
    "clf.fit(X,y)\n"
   ]
  },
  {
   "cell_type": "markdown",
   "metadata": {},
   "source": [
    "**Q4**: Predict the label of a data X[2:3]:"
   ]
  },
  {
   "cell_type": "code",
   "execution_count": 24,
   "metadata": {},
   "outputs": [
    {
     "data": {
      "text/plain": [
       "array([[0, 4, 4, 1, 3, 3, 1, 4, 0, 0, 2, 3, 3, 1, 4, 2, 1, 3, 3, 2, 0, 0,\n",
       "        3, 1, 4, 2, 1, 1, 2, 0, 3, 0, 3, 1, 0, 2, 2, 3, 4, 1, 0, 1, 2, 1,\n",
       "        0, 2, 1, 0, 0, 4, 2, 0, 2, 4, 3, 0, 2, 0, 2, 4, 2, 3, 1, 1, 0, 1,\n",
       "        0, 2, 3, 1, 1, 1, 3, 0, 0, 3, 4, 1, 0, 2, 4, 2, 0, 2, 0, 3, 4, 1,\n",
       "        0, 4, 3, 3, 1, 4, 0, 4, 3, 3, 3, 1]])"
      ]
     },
     "execution_count": 24,
     "metadata": {},
     "output_type": "execute_result"
    }
   ],
   "source": [
    "X[2:3]"
   ]
  },
  {
   "cell_type": "code",
   "execution_count": 25,
   "metadata": {},
   "outputs": [
    {
     "data": {
      "text/plain": [
       "array([3])"
      ]
     },
     "execution_count": 25,
     "metadata": {},
     "output_type": "execute_result"
    }
   ],
   "source": [
    "clf.predict(X[2:3])"
   ]
  },
  {
   "cell_type": "markdown",
   "metadata": {},
   "source": [
    "# 3 Process on 'Iris' Data"
   ]
  },
  {
   "cell_type": "markdown",
   "metadata": {},
   "source": [
    "In Week 9, we have studied how to use KNN algorithm to do classification task on 'iris' data. Here,we are going to employ the GaussianNB to conduct the same task. "
   ]
  },
  {
   "cell_type": "code",
   "execution_count": 65,
   "metadata": {},
   "outputs": [],
   "source": [
    "from sklearn.datasets import load_iris\n",
    "from sklearn.model_selection import train_test_split\n",
    "iris_dataset = load_iris()\n",
    "X_train, X_test, y_train, y_test = train_test_split(\n",
    "iris_dataset['data'], iris_dataset['target'], random_state=0)"
   ]
  },
  {
   "cell_type": "code",
   "execution_count": 66,
   "metadata": {},
   "outputs": [
    {
     "name": "stdout",
     "output_type": "stream",
     "text": [
      "(112, 4)\n",
      "(112,)\n",
      "(38, 4)\n",
      "(38,)\n"
     ]
    }
   ],
   "source": [
    "print(X_train.shape)\n",
    "print(y_train.shape)\n",
    "print(X_test.shape)\n",
    "print(y_test.shape)"
   ]
  },
  {
   "cell_type": "markdown",
   "metadata": {},
   "source": [
    "**Q5**：Report the acuracy result on test data:"
   ]
  },
  {
   "cell_type": "code",
   "execution_count": 41,
   "metadata": {},
   "outputs": [
    {
     "name": "stdout",
     "output_type": "stream",
     "text": [
      "Acc: on test set by using GaussianNB:  1.0\n",
      "Acc: on test set by using MultinomialNB:  0.7631578947368421\n"
     ]
    }
   ],
   "source": [
    "clf1 = GaussianNB()\n",
    "clf2 = MultinomialNB()\n",
    "clf1.fit(X_test,y_test)\n",
    "clf2.fit(X_test,y_test)\n",
    "from sklearn.metrics import accuracy_score\n",
    "print(\"Acc: on test set by using GaussianNB: \", accuracy_score(y_test, clf1.predict(X_test)))\n",
    "print(\"Acc: on test set by using MultinomialNB: \", accuracy_score(y_test, clf2.predict(X_test)))"
   ]
  },
  {
   "cell_type": "markdown",
   "metadata": {},
   "source": [
    "# 4 Predict Human Activity Recognition (HAR)"
   ]
  },
  {
   "cell_type": "markdown",
   "metadata": {},
   "source": [
    "The objective of this practice exercise is to predict current human activity based on phisiological activity measurements from 53 different features based in the [HAR dataset](http://groupware.les.inf.puc-rio.br/har#sbia_paper_section). The training (`har_train.csv`) and test (`har_validate.csv`) datasets are provided."
   ]
  },
  {
   "cell_type": "markdown",
   "metadata": {},
   "source": [
    "**Q6**: Build a Naive Bayes model, predict on the test dataset and compute the [confusion matrix](https://towardsdatascience.com/understanding-confusion-matrix-a9ad42dcfd62). Note: Please refer to the [`sklearn.metrics.confusion_matrix`](https://scikit-learn.org/stable/modules/generated/sklearn.metrics.confusion_matrix.html)"
   ]
  },
  {
   "cell_type": "code",
   "execution_count": 67,
   "metadata": {},
   "outputs": [
    {
     "name": "stdout",
     "output_type": "stream",
     "text": [
      "shape of train set:  (13737, 53)\n",
      "shape of test set:  (5885, 53)\n"
     ]
    }
   ],
   "source": [
    "import pandas as pd\n",
    "train = pd.read_csv(\"har_train.csv\")\n",
    "test = pd.read_csv(\"har_validate.csv\")\n",
    "print(\"shape of train set: \", train.shape)\n",
    "print(\"shape of test set: \", test.shape)"
   ]
  },
  {
   "cell_type": "code",
   "execution_count": 68,
   "metadata": {
    "scrolled": true
   },
   "outputs": [
    {
     "data": {
      "text/html": [
       "<div>\n",
       "<style scoped>\n",
       "    .dataframe tbody tr th:only-of-type {\n",
       "        vertical-align: middle;\n",
       "    }\n",
       "\n",
       "    .dataframe tbody tr th {\n",
       "        vertical-align: top;\n",
       "    }\n",
       "\n",
       "    .dataframe thead th {\n",
       "        text-align: right;\n",
       "    }\n",
       "</style>\n",
       "<table border=\"1\" class=\"dataframe\">\n",
       "  <thead>\n",
       "    <tr style=\"text-align: right;\">\n",
       "      <th></th>\n",
       "      <th>classe</th>\n",
       "      <th>roll_belt</th>\n",
       "      <th>pitch_belt</th>\n",
       "      <th>yaw_belt</th>\n",
       "      <th>total_accel_belt</th>\n",
       "      <th>gyros_belt_x</th>\n",
       "      <th>gyros_belt_y</th>\n",
       "      <th>gyros_belt_z</th>\n",
       "      <th>accel_belt_x</th>\n",
       "      <th>accel_belt_y</th>\n",
       "      <th>...</th>\n",
       "      <th>total_accel_forearm</th>\n",
       "      <th>gyros_forearm_x</th>\n",
       "      <th>gyros_forearm_y</th>\n",
       "      <th>gyros_forearm_z</th>\n",
       "      <th>accel_forearm_x</th>\n",
       "      <th>accel_forearm_y</th>\n",
       "      <th>accel_forearm_z</th>\n",
       "      <th>magnet_forearm_x</th>\n",
       "      <th>magnet_forearm_y</th>\n",
       "      <th>magnet_forearm_z</th>\n",
       "    </tr>\n",
       "  </thead>\n",
       "  <tbody>\n",
       "    <tr>\n",
       "      <th>0</th>\n",
       "      <td>A</td>\n",
       "      <td>1.41</td>\n",
       "      <td>8.07</td>\n",
       "      <td>-94.4</td>\n",
       "      <td>3</td>\n",
       "      <td>0.00</td>\n",
       "      <td>0.0</td>\n",
       "      <td>-0.02</td>\n",
       "      <td>-21</td>\n",
       "      <td>4</td>\n",
       "      <td>...</td>\n",
       "      <td>36</td>\n",
       "      <td>0.03</td>\n",
       "      <td>0.00</td>\n",
       "      <td>-0.02</td>\n",
       "      <td>192</td>\n",
       "      <td>203</td>\n",
       "      <td>-215</td>\n",
       "      <td>-17</td>\n",
       "      <td>654</td>\n",
       "      <td>476</td>\n",
       "    </tr>\n",
       "    <tr>\n",
       "      <th>1</th>\n",
       "      <td>A</td>\n",
       "      <td>1.41</td>\n",
       "      <td>8.07</td>\n",
       "      <td>-94.4</td>\n",
       "      <td>3</td>\n",
       "      <td>0.02</td>\n",
       "      <td>0.0</td>\n",
       "      <td>-0.02</td>\n",
       "      <td>-22</td>\n",
       "      <td>4</td>\n",
       "      <td>...</td>\n",
       "      <td>36</td>\n",
       "      <td>0.02</td>\n",
       "      <td>0.00</td>\n",
       "      <td>-0.02</td>\n",
       "      <td>192</td>\n",
       "      <td>203</td>\n",
       "      <td>-216</td>\n",
       "      <td>-18</td>\n",
       "      <td>661</td>\n",
       "      <td>473</td>\n",
       "    </tr>\n",
       "    <tr>\n",
       "      <th>2</th>\n",
       "      <td>A</td>\n",
       "      <td>1.42</td>\n",
       "      <td>8.07</td>\n",
       "      <td>-94.4</td>\n",
       "      <td>3</td>\n",
       "      <td>0.00</td>\n",
       "      <td>0.0</td>\n",
       "      <td>-0.02</td>\n",
       "      <td>-20</td>\n",
       "      <td>5</td>\n",
       "      <td>...</td>\n",
       "      <td>36</td>\n",
       "      <td>0.03</td>\n",
       "      <td>-0.02</td>\n",
       "      <td>0.00</td>\n",
       "      <td>196</td>\n",
       "      <td>204</td>\n",
       "      <td>-213</td>\n",
       "      <td>-18</td>\n",
       "      <td>658</td>\n",
       "      <td>469</td>\n",
       "    </tr>\n",
       "    <tr>\n",
       "      <th>3</th>\n",
       "      <td>A</td>\n",
       "      <td>1.48</td>\n",
       "      <td>8.05</td>\n",
       "      <td>-94.4</td>\n",
       "      <td>3</td>\n",
       "      <td>0.02</td>\n",
       "      <td>0.0</td>\n",
       "      <td>-0.03</td>\n",
       "      <td>-22</td>\n",
       "      <td>3</td>\n",
       "      <td>...</td>\n",
       "      <td>36</td>\n",
       "      <td>0.02</td>\n",
       "      <td>-0.02</td>\n",
       "      <td>0.00</td>\n",
       "      <td>189</td>\n",
       "      <td>206</td>\n",
       "      <td>-214</td>\n",
       "      <td>-16</td>\n",
       "      <td>658</td>\n",
       "      <td>469</td>\n",
       "    </tr>\n",
       "    <tr>\n",
       "      <th>4</th>\n",
       "      <td>A</td>\n",
       "      <td>1.45</td>\n",
       "      <td>8.06</td>\n",
       "      <td>-94.4</td>\n",
       "      <td>3</td>\n",
       "      <td>0.02</td>\n",
       "      <td>0.0</td>\n",
       "      <td>-0.02</td>\n",
       "      <td>-21</td>\n",
       "      <td>4</td>\n",
       "      <td>...</td>\n",
       "      <td>36</td>\n",
       "      <td>0.02</td>\n",
       "      <td>-0.02</td>\n",
       "      <td>-0.03</td>\n",
       "      <td>193</td>\n",
       "      <td>203</td>\n",
       "      <td>-215</td>\n",
       "      <td>-9</td>\n",
       "      <td>660</td>\n",
       "      <td>478</td>\n",
       "    </tr>\n",
       "  </tbody>\n",
       "</table>\n",
       "<p>5 rows × 53 columns</p>\n",
       "</div>"
      ],
      "text/plain": [
       "  classe  roll_belt  pitch_belt  yaw_belt  total_accel_belt  gyros_belt_x  \\\n",
       "0      A       1.41        8.07     -94.4                 3          0.00   \n",
       "1      A       1.41        8.07     -94.4                 3          0.02   \n",
       "2      A       1.42        8.07     -94.4                 3          0.00   \n",
       "3      A       1.48        8.05     -94.4                 3          0.02   \n",
       "4      A       1.45        8.06     -94.4                 3          0.02   \n",
       "\n",
       "   gyros_belt_y  gyros_belt_z  accel_belt_x  accel_belt_y  ...  \\\n",
       "0           0.0         -0.02           -21             4  ...   \n",
       "1           0.0         -0.02           -22             4  ...   \n",
       "2           0.0         -0.02           -20             5  ...   \n",
       "3           0.0         -0.03           -22             3  ...   \n",
       "4           0.0         -0.02           -21             4  ...   \n",
       "\n",
       "   total_accel_forearm  gyros_forearm_x  gyros_forearm_y  gyros_forearm_z  \\\n",
       "0                   36             0.03             0.00            -0.02   \n",
       "1                   36             0.02             0.00            -0.02   \n",
       "2                   36             0.03            -0.02             0.00   \n",
       "3                   36             0.02            -0.02             0.00   \n",
       "4                   36             0.02            -0.02            -0.03   \n",
       "\n",
       "   accel_forearm_x  accel_forearm_y  accel_forearm_z  magnet_forearm_x  \\\n",
       "0              192              203             -215               -17   \n",
       "1              192              203             -216               -18   \n",
       "2              196              204             -213               -18   \n",
       "3              189              206             -214               -16   \n",
       "4              193              203             -215                -9   \n",
       "\n",
       "   magnet_forearm_y  magnet_forearm_z  \n",
       "0               654               476  \n",
       "1               661               473  \n",
       "2               658               469  \n",
       "3               658               469  \n",
       "4               660               478  \n",
       "\n",
       "[5 rows x 53 columns]"
      ]
     },
     "execution_count": 68,
     "metadata": {},
     "output_type": "execute_result"
    }
   ],
   "source": [
    "train.head()"
   ]
  },
  {
   "cell_type": "code",
   "execution_count": 69,
   "metadata": {},
   "outputs": [
    {
     "data": {
      "text/plain": [
       "{'A', 'B', 'C', 'D', 'E'}"
      ]
     },
     "execution_count": 69,
     "metadata": {},
     "output_type": "execute_result"
    }
   ],
   "source": [
    "set(train['classe'])"
   ]
  },
  {
   "cell_type": "code",
   "execution_count": 70,
   "metadata": {},
   "outputs": [],
   "source": [
    "from sklearn.neural_network import MLPClassifier\n",
    "from sklearn.neighbors import KNeighborsClassifier\n",
    "from sklearn.svm import SVC\n",
    "from sklearn.gaussian_process import GaussianProcessClassifier\n",
    "from sklearn.gaussian_process.kernels import RBF\n",
    "from sklearn.tree import DecisionTreeClassifier\n",
    "from sklearn.ensemble import RandomForestClassifier, AdaBoostClassifier\n",
    "from sklearn.naive_bayes import GaussianNB\n",
    "from sklearn.discriminant_analysis import QuadraticDiscriminantAnalysis"
   ]
  },
  {
   "cell_type": "code",
   "execution_count": 71,
   "metadata": {},
   "outputs": [],
   "source": [
    "names = [\"Nearest Neighbors\", \"Linear SVM\", \"RBF SVM\", \"Gaussian Process\",\n",
    "         \"Decision Tree\", \"Random Forest\", \"Neural Net\", \"AdaBoost\",\n",
    "         \"Naive Bayes\", \"QDA\"]"
   ]
  },
  {
   "cell_type": "code",
   "execution_count": 72,
   "metadata": {},
   "outputs": [],
   "source": [
    "classifiers = [\n",
    "    KNeighborsClassifier(3),\n",
    "    SVC(kernel=\"linear\", C=0.025),\n",
    "    SVC(gamma=2, C=1),\n",
    "    GaussianProcessClassifier(1.0 * RBF(1.0)),\n",
    "    DecisionTreeClassifier(max_depth=5),\n",
    "    RandomForestClassifier(max_depth=5, n_estimators=10, max_features=1),\n",
    "    MLPClassifier(alpha=1, max_iter=1000),\n",
    "    AdaBoostClassifier(),\n",
    "    GaussianNB(),\n",
    "    QuadraticDiscriminantAnalysis()]"
   ]
  },
  {
   "cell_type": "code",
   "execution_count": 73,
   "metadata": {},
   "outputs": [
    {
     "name": "stdout",
     "output_type": "stream",
     "text": [
      "Classe:  Nearest Neighbors\n",
      "acc:  0.9736842105263158\n",
      "Classe:  Linear SVM\n",
      "acc:  0.9210526315789473\n",
      "Classe:  RBF SVM\n",
      "acc:  0.9736842105263158\n",
      "Classe:  Gaussian Process\n",
      "acc:  0.9736842105263158\n",
      "Classe:  Decision Tree\n",
      "acc:  0.9736842105263158\n",
      "Classe:  Random Forest\n",
      "acc:  0.9473684210526315\n",
      "Classe:  Neural Net\n",
      "acc:  0.9736842105263158\n",
      "Classe:  AdaBoost\n",
      "acc:  0.8947368421052632\n",
      "Classe:  Naive Bayes\n",
      "acc:  1.0\n",
      "Classe:  QDA\n",
      "acc:  0.9736842105263158\n"
     ]
    }
   ],
   "source": [
    "for name, clf in zip(names, classifiers):\n",
    "        print(\"Classe: \", name)\n",
    "        clf.fit(X_train, y_train)\n",
    "        score = clf.score(X_test, y_test)\n",
    "        print(\"acc: \", score)"
   ]
  },
  {
   "cell_type": "code",
   "execution_count": 74,
   "metadata": {},
   "outputs": [
    {
     "name": "stdout",
     "output_type": "stream",
     "text": [
      "acc:  0.9736842105263158\n"
     ]
    }
   ],
   "source": [
    "knn = KNeighborsClassifier(3)\n",
    "knn.fit(X_train, y_train)\n",
    "score = knn.score(X_test,y_test)\n",
    "print(\"acc: \", score)"
   ]
  },
  {
   "cell_type": "code",
   "execution_count": 75,
   "metadata": {},
   "outputs": [
    {
     "name": "stdout",
     "output_type": "stream",
     "text": [
      "acc:  0.9736842105263158\n"
     ]
    }
   ],
   "source": [
    "dt = DecisionTreeClassifier(max_depth=5)\n",
    "dt.fit(X_train, y_train)\n",
    "score = knn.score(X_test,y_test)\n",
    "print(\"acc: \", score)"
   ]
  },
  {
   "cell_type": "code",
   "execution_count": 76,
   "metadata": {},
   "outputs": [
    {
     "name": "stdout",
     "output_type": "stream",
     "text": [
      "acc:  0.9736842105263158\n"
     ]
    }
   ],
   "source": [
    "ml = MLPClassifier(alpha=1, max_iter=1000)\n",
    "ml.fit(X_train, y_train)\n",
    "score = knn.score(X_test,y_test)\n",
    "print(\"acc: \", score)"
   ]
  },
  {
   "cell_type": "code",
   "execution_count": 77,
   "metadata": {},
   "outputs": [
    {
     "name": "stdout",
     "output_type": "stream",
     "text": [
      "acc:  0.9736842105263158\n"
     ]
    }
   ],
   "source": [
    "ad = AdaBoostClassifier()\n",
    "ad.fit(X_train, y_train)\n",
    "score = knn.score(X_test,y_test)\n",
    "print(\"acc: \", score)"
   ]
  }
 ],
 "metadata": {
  "kernelspec": {
   "display_name": "Python 3",
   "language": "python",
   "name": "python3"
  },
  "language_info": {
   "codemirror_mode": {
    "name": "ipython",
    "version": 3
   },
   "file_extension": ".py",
   "mimetype": "text/x-python",
   "name": "python",
   "nbconvert_exporter": "python",
   "pygments_lexer": "ipython3",
   "version": "3.7.3"
  }
 },
 "nbformat": 4,
 "nbformat_minor": 2
}
